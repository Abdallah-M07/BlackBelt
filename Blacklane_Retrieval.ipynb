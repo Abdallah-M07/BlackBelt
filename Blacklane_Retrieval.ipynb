{
 "cells": [
  {
   "cell_type": "code",
   "execution_count": 1,
   "metadata": {},
   "outputs": [],
   "source": [
    "import time\n",
    "import pandas as pd\n",
    "from selenium import webdriver\n",
    "from selenium.webdriver.common.by import By\n",
    "from selenium.webdriver.common.keys import Keys\n",
    "from selenium.webdriver.support.ui import WebDriverWait\n",
    "from selenium.webdriver.chrome.service import Service\n",
    "from selenium.webdriver.support import expected_conditions as EC"
   ]
  },
  {
   "cell_type": "code",
   "execution_count": 2,
   "metadata": {},
   "outputs": [],
   "source": [
    "PATH = 'C:\\\\Program Files (x86)\\\\chromedriver.exe'"
   ]
  },
  {
   "cell_type": "code",
   "execution_count": 3,
   "metadata": {},
   "outputs": [],
   "source": [
    "service = Service(executable_path = PATH)\n",
    "\n",
    "driver = webdriver.Chrome(service = service)\n",
    "\n",
    "#URL for Paddington Station\n",
    "driver.get('https://shorturl.at/swBUX')"
   ]
  },
  {
   "cell_type": "code",
   "execution_count": 4,
   "metadata": {},
   "outputs": [],
   "source": [
    "cookie_bttn = WebDriverWait(driver, 10).until(\n",
    "    EC.element_to_be_clickable((By.ID, 'onetrust-accept-btn-handler'))\n",
    ")\n",
    "\n",
    "cookie_bttn.click()\n",
    "\n",
    "time.sleep(5)"
   ]
  },
  {
   "cell_type": "code",
   "execution_count": 5,
   "metadata": {},
   "outputs": [],
   "source": [
    "service_elements = WebDriverWait(driver, 10).until(\n",
    "    EC.presence_of_all_elements_located((By.CLASS_NAME, 'SuggestedCarClasses_class__kH7h5'))\n",
    ")\n",
    "\n",
    "price_elements = WebDriverWait(driver, 10).until(\n",
    "    EC.presence_of_all_elements_located((By.CSS_SELECTOR, 'p.SuggestedCarClasses_price__95daT[data-testid=\"SuggestedCarClasses.ItemPrice\"]'))\n",
    ")"
   ]
  },
  {
   "cell_type": "code",
   "execution_count": 6,
   "metadata": {},
   "outputs": [],
   "source": [
    "services_prices_data = []\n",
    "\n",
    "for service_element, price_element in zip(service_elements, price_elements):\n",
    "    service = service_element.text\n",
    "    price = price_element.text\n",
    "    services_prices_data.append({'Service': service, 'Price': price})\n"
   ]
  },
  {
   "cell_type": "code",
   "execution_count": 7,
   "metadata": {},
   "outputs": [
    {
     "name": "stdout",
     "output_type": "stream",
     "text": [
      "Paddington Station to 17 Grosvenor Square             Service       Price\n",
      "0    Business Class   59.69 GBP\n",
      "1    Electric Class   59.69 GBP\n",
      "2  Business Van/SUV  117.19 GBP\n",
      "3       First Class  101.98 GBP\n"
     ]
    }
   ],
   "source": [
    "df = pd.DataFrame(services_prices_data)\n",
    "print('Paddington Station to 17 Grosvenor Square', df)"
   ]
  },
  {
   "cell_type": "code",
   "execution_count": 8,
   "metadata": {},
   "outputs": [],
   "source": [
    "driver.quit()"
   ]
  },
  {
   "cell_type": "markdown",
   "metadata": {},
   "source": [
    "URL FOR HEATHROW AIRPORT (CLTR C + v):\n",
    "https://shorturl.at/kADK2\n",
    "\n",
    "URL FOR GATWICK AIRPORT (CLTR C + v):\n",
    "https://shorturl.at/rGJR3"
   ]
  }
 ],
 "metadata": {
  "kernelspec": {
   "display_name": "Python 3",
   "language": "python",
   "name": "python3"
  },
  "language_info": {
   "codemirror_mode": {
    "name": "ipython",
    "version": 3
   },
   "file_extension": ".py",
   "mimetype": "text/x-python",
   "name": "python",
   "nbconvert_exporter": "python",
   "pygments_lexer": "ipython3",
   "version": "3.10.4"
  }
 },
 "nbformat": 4,
 "nbformat_minor": 2
}
